{
 "cells": [
  {
   "cell_type": "markdown",
   "id": "2a6236c8",
   "metadata": {},
   "source": [
    "# 4.1"
   ]
  },
  {
   "cell_type": "code",
   "execution_count": 35,
   "id": "d8f2f151",
   "metadata": {},
   "outputs": [
    {
     "name": "stdout",
     "output_type": "stream",
     "text": [
      "too high\n"
     ]
    }
   ],
   "source": [
    "secret=4\n",
    "guess=7\n",
    "\n",
    "if guess>secret:\n",
    "    print(\"too high\")\n",
    "if guess<secret:\n",
    "    print(\"too low\")\n",
    "if guess==secret:\n",
    "    print(\"just right\")"
   ]
  },
  {
   "cell_type": "markdown",
   "id": "f5c3e7bf",
   "metadata": {},
   "source": [
    "# 4.2"
   ]
  },
  {
   "cell_type": "code",
   "execution_count": 36,
   "id": "5e33c657",
   "metadata": {
    "scrolled": true
   },
   "outputs": [
    {
     "ename": "NameError",
     "evalue": "name 'small' is not defined",
     "output_type": "error",
     "traceback": [
      "\u001b[1;31m---------------------------------------------------------------------------\u001b[0m",
      "\u001b[1;31mNameError\u001b[0m                                 Traceback (most recent call last)",
      "\u001b[1;32m~\\AppData\\Local\\Temp\\ipykernel_23048\\118636079.py\u001b[0m in \u001b[0;36m<module>\u001b[1;34m\u001b[0m\n\u001b[1;32m----> 1\u001b[1;33m \u001b[1;32mif\u001b[0m \u001b[0msmall\u001b[0m\u001b[1;33m==\u001b[0m\u001b[0mtrue\u001b[0m\u001b[1;33m:\u001b[0m\u001b[1;33m\u001b[0m\u001b[1;33m\u001b[0m\u001b[0m\n\u001b[0m\u001b[0;32m      2\u001b[0m     \u001b[0mprint\u001b[0m\u001b[1;33m(\u001b[0m\u001b[1;34m\"cherry and pea\"\u001b[0m\u001b[1;33m)\u001b[0m\u001b[1;33m\u001b[0m\u001b[1;33m\u001b[0m\u001b[0m\n\u001b[0;32m      3\u001b[0m \u001b[1;32melse\u001b[0m\u001b[1;33m:\u001b[0m\u001b[1;33m\u001b[0m\u001b[1;33m\u001b[0m\u001b[0m\n\u001b[0;32m      4\u001b[0m     \u001b[0mprint\u001b[0m\u001b[1;33m(\u001b[0m\u001b[1;34m\"watermelon and pumpkin\"\u001b[0m\u001b[1;33m)\u001b[0m\u001b[1;33m\u001b[0m\u001b[1;33m\u001b[0m\u001b[0m\n\u001b[0;32m      5\u001b[0m \u001b[1;33m\u001b[0m\u001b[0m\n",
      "\u001b[1;31mNameError\u001b[0m: name 'small' is not defined"
     ]
    }
   ],
   "source": [
    "if small==true:\n",
    "    print(\"cherry and pea\")\n",
    "else:\n",
    "    print(\"watermelon and pumpkin\")\n",
    "    \n",
    "if green==true:\n",
    "    print(\"pea and watermelon\")\n",
    "else:\n",
    "    print(\"pumpkin and cherry\")"
   ]
  },
  {
   "cell_type": "markdown",
   "id": "453d1738",
   "metadata": {},
   "source": [
    "I don't entirely understand what 4.2 is asking me to do"
   ]
  },
  {
   "cell_type": "markdown",
   "id": "735ec5f5",
   "metadata": {},
   "source": [
    "# 6.1"
   ]
  },
  {
   "cell_type": "code",
   "execution_count": 52,
   "id": "9ce73d62",
   "metadata": {},
   "outputs": [
    {
     "name": "stdout",
     "output_type": "stream",
     "text": [
      "0\n",
      "1\n",
      "2\n",
      "3\n"
     ]
    }
   ],
   "source": [
    "for x in range(0,4):\n",
    "     print(x)"
   ]
  },
  {
   "cell_type": "markdown",
   "id": "018e4d3d",
   "metadata": {},
   "source": [
    "# 6.2"
   ]
  },
  {
   "cell_type": "code",
   "execution_count": 50,
   "id": "9e6a8d3b",
   "metadata": {},
   "outputs": [
    {
     "name": "stdout",
     "output_type": "stream",
     "text": [
      "1\n",
      "too low\n",
      "2\n",
      "too low\n",
      "3\n",
      "too low\n",
      "4\n",
      "too low\n",
      "5\n",
      "too low\n",
      "6\n",
      "too low\n",
      "7\n",
      "found it!\n"
     ]
    }
   ],
   "source": [
    "guess_me=7\n",
    "number=1\n",
    "while number<guess_me:\n",
    "    print(number)\n",
    "    print(\"too low\")\n",
    "    number+=1\n",
    "if number==guess_me:\n",
    "    print(number)\n",
    "    print(\"found it!\")\n",
    "if number>guess_me:"
   ]
  },
  {
   "cell_type": "markdown",
   "id": "7e1f5e16",
   "metadata": {},
   "source": [
    "# 6.3"
   ]
  },
  {
   "cell_type": "code",
   "execution_count": 58,
   "id": "5ce3ff92",
   "metadata": {},
   "outputs": [
    {
     "name": "stdout",
     "output_type": "stream",
     "text": [
      "0\n",
      "too low\n",
      "1\n",
      "too low\n",
      "2\n",
      "too low\n",
      "3\n",
      "too low\n",
      "4\n",
      "too low\n",
      "5\n",
      "found it!\n"
     ]
    }
   ],
   "source": [
    "guess_me=5\n",
    "\n",
    "for number in range(10):\n",
    "    print(number)\n",
    "    if number<guess_me:\n",
    "        print(\"too low\")\n",
    "    if number==guess_me: \n",
    "        print(\"found it!\")\n",
    "        break\n",
    "    if number>guess_me:\n",
    "        print(\"oops\")\n"
   ]
  }
 ],
 "metadata": {
  "kernelspec": {
   "display_name": "Python 3 (ipykernel)",
   "language": "python",
   "name": "python3"
  },
  "language_info": {
   "codemirror_mode": {
    "name": "ipython",
    "version": 3
   },
   "file_extension": ".py",
   "mimetype": "text/x-python",
   "name": "python",
   "nbconvert_exporter": "python",
   "pygments_lexer": "ipython3",
   "version": "3.9.13"
  }
 },
 "nbformat": 4,
 "nbformat_minor": 5
}
